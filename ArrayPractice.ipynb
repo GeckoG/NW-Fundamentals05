{
 "cells": [
  {
   "cell_type": "code",
   "execution_count": 54,
   "metadata": {},
   "outputs": [
    {
     "name": "stdout",
     "output_type": "stream",
     "text": [
      "Hello World ~Matt Goeckel\n"
     ]
    }
   ],
   "source": [
    "print(\"Hello World ~Matt Goeckel\")"
   ]
  },
  {
   "cell_type": "code",
   "execution_count": 55,
   "metadata": {},
   "outputs": [
    {
     "data": {
      "text/plain": [
       "numpy.ndarray"
      ]
     },
     "execution_count": 55,
     "metadata": {},
     "output_type": "execute_result"
    }
   ],
   "source": [
    "##7.2 Creating arrays from Existing Data \n",
    "import numpy as np\n",
    "numbers = np.array([2, 3, 5, 7, 11])\n",
    "type(numbers)"
   ]
  },
  {
   "cell_type": "code",
   "execution_count": 56,
   "metadata": {},
   "outputs": [
    {
     "data": {
      "text/plain": [
       "array([ 2,  3,  5,  7, 11])"
      ]
     },
     "execution_count": 56,
     "metadata": {},
     "output_type": "execute_result"
    }
   ],
   "source": [
    "numbers"
   ]
  },
  {
   "cell_type": "code",
   "execution_count": 57,
   "metadata": {},
   "outputs": [
    {
     "data": {
      "text/plain": [
       "array([[1, 2, 3],\n",
       "       [4, 5, 6]])"
      ]
     },
     "execution_count": 57,
     "metadata": {},
     "output_type": "execute_result"
    }
   ],
   "source": [
    "np.array([[1, 2, 3], [4, 5, 6]])"
   ]
  },
  {
   "cell_type": "code",
   "execution_count": 58,
   "metadata": {},
   "outputs": [
    {
     "data": {
      "text/plain": [
       "array([ 2,  4,  6,  8, 10, 12, 14, 16, 18, 20])"
      ]
     },
     "execution_count": 58,
     "metadata": {},
     "output_type": "execute_result"
    }
   ],
   "source": [
    "np.array([x for x in range(2, 21, 2)])"
   ]
  },
  {
   "cell_type": "code",
   "execution_count": 59,
   "metadata": {},
   "outputs": [
    {
     "data": {
      "text/plain": [
       "array([[ 2,  4,  6,  8, 10],\n",
       "       [ 1,  3,  5,  7,  9]])"
      ]
     },
     "execution_count": 59,
     "metadata": {},
     "output_type": "execute_result"
    }
   ],
   "source": [
    "np.array([[2, 4, 6, 8, 10], [1, 3, 5, 7, 9]])"
   ]
  },
  {
   "cell_type": "code",
   "execution_count": 60,
   "metadata": {},
   "outputs": [
    {
     "data": {
      "text/plain": [
       "array([[1, 2, 3],\n",
       "       [4, 5, 6]])"
      ]
     },
     "execution_count": 60,
     "metadata": {},
     "output_type": "execute_result"
    }
   ],
   "source": [
    "##7.3 array Attributes\n",
    "integers = np.array([[1, 2, 3], [4, 5, 6]])\n",
    "integers"
   ]
  },
  {
   "cell_type": "code",
   "execution_count": 61,
   "metadata": {},
   "outputs": [
    {
     "name": "stdout",
     "output_type": "stream",
     "text": [
      "int32\n",
      "2\n",
      "(2, 3)\n",
      "6\n",
      "4\n"
     ]
    }
   ],
   "source": [
    "print(integers.dtype)\n",
    "print(integers.ndim)\n",
    "print(integers.shape)\n",
    "print(integers.size)\n",
    "print(integers.itemsize)"
   ]
  },
  {
   "cell_type": "code",
   "execution_count": 62,
   "metadata": {},
   "outputs": [
    {
     "name": "stdout",
     "output_type": "stream",
     "text": [
      "1 2 3 \n",
      "4 5 6 \n"
     ]
    }
   ],
   "source": [
    "for row in integers:\n",
    "    for column in row:\n",
    "        print(column, end=' ')\n",
    "    print()"
   ]
  },
  {
   "cell_type": "code",
   "execution_count": 63,
   "metadata": {},
   "outputs": [
    {
     "name": "stdout",
     "output_type": "stream",
     "text": [
      "1\n",
      "2\n",
      "3\n",
      "4\n",
      "5\n",
      "6\n"
     ]
    }
   ],
   "source": [
    "for i in integers.flat:\n",
    "    print(i)"
   ]
  },
  {
   "cell_type": "code",
   "execution_count": 64,
   "metadata": {},
   "outputs": [
    {
     "data": {
      "text/plain": [
       "array([0., 0., 0., 0., 0.])"
      ]
     },
     "execution_count": 64,
     "metadata": {},
     "output_type": "execute_result"
    }
   ],
   "source": [
    "##7.4 Filling arrays with Specific Values\n",
    "np.zeros(5)"
   ]
  },
  {
   "cell_type": "code",
   "execution_count": 65,
   "metadata": {},
   "outputs": [
    {
     "data": {
      "text/plain": [
       "array([[1, 1, 1, 1],\n",
       "       [1, 1, 1, 1]])"
      ]
     },
     "execution_count": 65,
     "metadata": {},
     "output_type": "execute_result"
    }
   ],
   "source": [
    "np.ones((2, 4), dtype=int)"
   ]
  },
  {
   "cell_type": "code",
   "execution_count": 66,
   "metadata": {},
   "outputs": [
    {
     "data": {
      "text/plain": [
       "array([[13, 13, 13, 13, 13],\n",
       "       [13, 13, 13, 13, 13],\n",
       "       [13, 13, 13, 13, 13]])"
      ]
     },
     "execution_count": 66,
     "metadata": {},
     "output_type": "execute_result"
    }
   ],
   "source": [
    "np.full((3, 5), 13)"
   ]
  },
  {
   "cell_type": "code",
   "execution_count": 67,
   "metadata": {},
   "outputs": [
    {
     "data": {
      "text/plain": [
       "array([0, 1, 2, 3, 4])"
      ]
     },
     "execution_count": 67,
     "metadata": {},
     "output_type": "execute_result"
    }
   ],
   "source": [
    "##7.5 Creating arrays from Ranges\n",
    "np.arange(5)"
   ]
  },
  {
   "cell_type": "code",
   "execution_count": 68,
   "metadata": {},
   "outputs": [
    {
     "data": {
      "text/plain": [
       "array([5, 6, 7, 8, 9])"
      ]
     },
     "execution_count": 68,
     "metadata": {},
     "output_type": "execute_result"
    }
   ],
   "source": [
    "np.arange(5, 10)"
   ]
  },
  {
   "cell_type": "code",
   "execution_count": 69,
   "metadata": {},
   "outputs": [
    {
     "data": {
      "text/plain": [
       "array([10,  8,  6,  4,  2])"
      ]
     },
     "execution_count": 69,
     "metadata": {},
     "output_type": "execute_result"
    }
   ],
   "source": [
    "np.arange(10, 1, -2)"
   ]
  },
  {
   "cell_type": "code",
   "execution_count": 70,
   "metadata": {},
   "outputs": [
    {
     "data": {
      "text/plain": [
       "array([0.  , 0.25, 0.5 , 0.75, 1.  ])"
      ]
     },
     "execution_count": 70,
     "metadata": {},
     "output_type": "execute_result"
    }
   ],
   "source": [
    "np.linspace(0.0, 1.0, num=5)"
   ]
  },
  {
   "cell_type": "code",
   "execution_count": 71,
   "metadata": {},
   "outputs": [
    {
     "data": {
      "text/plain": [
       "array([[ 1,  2,  3,  4,  5],\n",
       "       [ 6,  7,  8,  9, 10],\n",
       "       [11, 12, 13, 14, 15],\n",
       "       [16, 17, 18, 19, 20]])"
      ]
     },
     "execution_count": 71,
     "metadata": {},
     "output_type": "execute_result"
    }
   ],
   "source": [
    "np.arange(1, 21).reshape(4, 5)"
   ]
  },
  {
   "cell_type": "code",
   "execution_count": 72,
   "metadata": {},
   "outputs": [
    {
     "data": {
      "text/plain": [
       "array([[     1,      2,      3, ...,  24998,  24999,  25000],\n",
       "       [ 25001,  25002,  25003, ...,  49998,  49999,  50000],\n",
       "       [ 50001,  50002,  50003, ...,  74998,  74999,  75000],\n",
       "       [ 75001,  75002,  75003, ...,  99998,  99999, 100000]])"
      ]
     },
     "execution_count": 72,
     "metadata": {},
     "output_type": "execute_result"
    }
   ],
   "source": [
    "np.arange(1, 100001).reshape(4, 25000)"
   ]
  },
  {
   "cell_type": "code",
   "execution_count": 73,
   "metadata": {},
   "outputs": [
    {
     "name": "stdout",
     "output_type": "stream",
     "text": [
      "3.98 s ± 105 ms per loop (mean ± std. dev. of 7 runs, 1 loop each)\n"
     ]
    }
   ],
   "source": [
    "##7.6 List vs. array Performance: Introducing %timeit\n",
    "import random\n",
    "%timeit rolls_list = \\\n",
    "    [random.randrange(1, 7) for i in range(0, 6_000_000)]"
   ]
  },
  {
   "cell_type": "code",
   "execution_count": 74,
   "metadata": {},
   "outputs": [
    {
     "name": "stdout",
     "output_type": "stream",
     "text": [
      "56.8 ms ± 733 µs per loop (mean ± std. dev. of 7 runs, 10 loops each)\n"
     ]
    }
   ],
   "source": [
    "%timeit rolls_array = np.random.randint(1, 7, 6_000_000)"
   ]
  },
  {
   "cell_type": "code",
   "execution_count": 75,
   "metadata": {},
   "outputs": [
    {
     "name": "stdout",
     "output_type": "stream",
     "text": [
      "58.5 ms ± 1.17 ms per loop (mean ± std. dev. of 2 runs, 3 loops each)\n"
     ]
    }
   ],
   "source": [
    "%timeit -n3 -r2 rolls_array = np.random.randint(1, 7, 6_000_000)"
   ]
  },
  {
   "cell_type": "code",
   "execution_count": 76,
   "metadata": {},
   "outputs": [],
   "source": [
    "## %load to read code into IPython from a local file or URL.\n",
    "## %save to save snippets to a file.\n",
    "## %run to execute a .py file from IPython.\n",
    "## %precision to change the default floating-point precision for IPython outputs.\n",
    "## %cd to change directories without having to exit IPython first.\n",
    "## %edit to launch an external editor—handy if you need to modify more complex snippets.\n",
    "## %history to view a list of a"
   ]
  },
  {
   "cell_type": "code",
   "execution_count": 77,
   "metadata": {},
   "outputs": [
    {
     "name": "stdout",
     "output_type": "stream",
     "text": [
      "[1 2 3 4 5]\n",
      "[ 2  4  6  8 10]\n",
      "[  1   8  27  64 125]\n",
      "[1 2 3 4 5]\n",
      "[11 12 13 14 15]\n"
     ]
    }
   ],
   "source": [
    "##7.7 array Operators\n",
    "numbers = np.arange(1, 6)\n",
    "print(numbers)\n",
    "print(numbers*2)\n",
    "print(numbers ** 3)\n",
    "print(numbers)\n",
    "numbers += 10\n",
    "print(numbers)"
   ]
  },
  {
   "cell_type": "code",
   "execution_count": 78,
   "metadata": {},
   "outputs": [
    {
     "data": {
      "text/plain": [
       "array([1.1, 2.2, 3.3, 4.4, 5.5])"
      ]
     },
     "execution_count": 78,
     "metadata": {},
     "output_type": "execute_result"
    }
   ],
   "source": [
    "numbers2 = np.linspace(1.1, 5.5, 5)\n",
    "numbers2"
   ]
  },
  {
   "cell_type": "code",
   "execution_count": 79,
   "metadata": {},
   "outputs": [
    {
     "data": {
      "text/plain": [
       "array([12.1, 26.4, 42.9, 61.6, 82.5])"
      ]
     },
     "execution_count": 79,
     "metadata": {},
     "output_type": "execute_result"
    }
   ],
   "source": [
    "numbers * numbers2"
   ]
  },
  {
   "cell_type": "code",
   "execution_count": 80,
   "metadata": {},
   "outputs": [
    {
     "data": {
      "text/plain": [
       "array([False, False,  True,  True,  True])"
      ]
     },
     "execution_count": 80,
     "metadata": {},
     "output_type": "execute_result"
    }
   ],
   "source": [
    "numbers >= 13"
   ]
  },
  {
   "cell_type": "code",
   "execution_count": 81,
   "metadata": {},
   "outputs": [
    {
     "data": {
      "text/plain": [
       "array([ True,  True,  True,  True,  True])"
      ]
     },
     "execution_count": 81,
     "metadata": {},
     "output_type": "execute_result"
    }
   ],
   "source": [
    "numbers2 < numbers"
   ]
  },
  {
   "cell_type": "code",
   "execution_count": 82,
   "metadata": {},
   "outputs": [
    {
     "name": "stdout",
     "output_type": "stream",
     "text": [
      "1054\n",
      "70\n",
      "100\n",
      "87.83333333333333\n",
      "8.792357792739987\n",
      "77.30555555555556\n"
     ]
    }
   ],
   "source": [
    "##7.8 NumPy Calculation Methods\n",
    "grades = np.array([[87, 96, 70], [100, 87, 90],[94, 77, 90], [100, 81, 82]])\n",
    "print(grades.sum())\n",
    "print(grades.min())\n",
    "print(grades.max())\n",
    "print(grades.mean())\n",
    "print(grades.std())\n",
    "print(grades.var())"
   ]
  },
  {
   "cell_type": "code",
   "execution_count": 83,
   "metadata": {},
   "outputs": [
    {
     "data": {
      "text/plain": [
       "array([84.33333333, 92.33333333, 87.        , 87.66666667])"
      ]
     },
     "execution_count": 83,
     "metadata": {},
     "output_type": "execute_result"
    }
   ],
   "source": [
    "grades.mean(axis=1)"
   ]
  },
  {
   "cell_type": "code",
   "execution_count": 84,
   "metadata": {},
   "outputs": [
    {
     "data": {
      "text/plain": [
       "array([1., 2., 3., 4., 5., 6.])"
      ]
     },
     "execution_count": 84,
     "metadata": {},
     "output_type": "execute_result"
    }
   ],
   "source": [
    "##7.9 Universal Functions\n",
    "numbers = np.array([1, 4, 9, 16, 25, 36])\n",
    "np.sqrt(numbers)"
   ]
  },
  {
   "cell_type": "code",
   "execution_count": 85,
   "metadata": {},
   "outputs": [
    {
     "data": {
      "text/plain": [
       "array([11, 24, 39, 56, 75, 96])"
      ]
     },
     "execution_count": 85,
     "metadata": {},
     "output_type": "execute_result"
    }
   ],
   "source": [
    "numbers2 = np.arange(1, 7) * 10\n",
    "np.add(numbers, numbers2)"
   ]
  },
  {
   "cell_type": "code",
   "execution_count": 86,
   "metadata": {},
   "outputs": [
    {
     "data": {
      "text/plain": [
       "array([ 50, 100, 150, 200, 250, 300])"
      ]
     },
     "execution_count": 86,
     "metadata": {},
     "output_type": "execute_result"
    }
   ],
   "source": [
    "np.multiply(numbers2, 5)"
   ]
  },
  {
   "cell_type": "code",
   "execution_count": 87,
   "metadata": {},
   "outputs": [
    {
     "data": {
      "text/plain": [
       "array([[ 20,  80, 180],\n",
       "       [ 80, 200, 360]])"
      ]
     },
     "execution_count": 87,
     "metadata": {},
     "output_type": "execute_result"
    }
   ],
   "source": [
    "numbers3 = numbers2.reshape(2, 3)\n",
    "numbers4 = np.array([2, 4, 6])\n",
    "np.multiply(numbers3, numbers4)"
   ]
  },
  {
   "cell_type": "code",
   "execution_count": 88,
   "metadata": {},
   "outputs": [
    {
     "data": {
      "text/plain": [
       "96"
      ]
     },
     "execution_count": 88,
     "metadata": {},
     "output_type": "execute_result"
    }
   ],
   "source": [
    "##7.10 Indexing and Slicing\n",
    "grades[0, 1] # row 0, column 1"
   ]
  },
  {
   "cell_type": "code",
   "execution_count": 89,
   "metadata": {},
   "outputs": [
    {
     "name": "stdout",
     "output_type": "stream",
     "text": [
      "[100  87  90]\n",
      "end of array\n",
      "[[ 87  96  70]\n",
      " [100  87  90]]\n",
      "end of array\n",
      "[[100  87  90]\n",
      " [100  81  82]]\n",
      "end of array\n",
      "[ 87 100  94 100]\n",
      "end of array\n",
      "[[96 70]\n",
      " [87 90]\n",
      " [77 90]\n",
      " [81 82]]\n",
      "end of array\n",
      "[[ 87  70]\n",
      " [100  90]\n",
      " [ 94  90]\n",
      " [100  82]]\n"
     ]
    }
   ],
   "source": [
    "print(grades[1])\n",
    "print(\"end of array\")\n",
    "print(grades[0:2])\n",
    "print(\"end of array\")\n",
    "print(grades[[1,3]])\n",
    "print(\"end of array\")\n",
    "print(grades[:,0])\n",
    "print(\"end of array\")\n",
    "print(grades[:,1:3])\n",
    "print(\"end of array\")\n",
    "print(grades[:, [0, 2]])"
   ]
  },
  {
   "cell_type": "code",
   "execution_count": 90,
   "metadata": {},
   "outputs": [
    {
     "name": "stdout",
     "output_type": "stream",
     "text": [
      "[1 2 3 4 5]\n",
      "[1 2 3 4 5]\n"
     ]
    }
   ],
   "source": [
    "##7.11 Views: Shallow Copies\n",
    "numbers = np.arange(1, 6)\n",
    "print(numbers)\n",
    "numbers2 = numbers.view()\n",
    "print(numbers2)"
   ]
  },
  {
   "cell_type": "code",
   "execution_count": 91,
   "metadata": {},
   "outputs": [
    {
     "name": "stdout",
     "output_type": "stream",
     "text": [
      "2762587168976\n",
      "2762584657424\n"
     ]
    }
   ],
   "source": [
    "print(id(numbers))\n",
    "print(id(numbers2))"
   ]
  },
  {
   "cell_type": "code",
   "execution_count": 92,
   "metadata": {},
   "outputs": [
    {
     "name": "stdout",
     "output_type": "stream",
     "text": [
      "[ 1 20  3  4  5]\n",
      "[ 1 20  3  4  5]\n"
     ]
    }
   ],
   "source": [
    "numbers[1] *= 10\n",
    "print(numbers)\n",
    "print(numbers2)"
   ]
  },
  {
   "cell_type": "code",
   "execution_count": 93,
   "metadata": {},
   "outputs": [
    {
     "name": "stdout",
     "output_type": "stream",
     "text": [
      "[1 2 3 4 5]\n",
      "[1 2 3 4 5]\n"
     ]
    }
   ],
   "source": [
    "numbers2[1] /= 10\n",
    "print(numbers)\n",
    "print(numbers2)"
   ]
  },
  {
   "cell_type": "code",
   "execution_count": 94,
   "metadata": {},
   "outputs": [
    {
     "name": "stdout",
     "output_type": "stream",
     "text": [
      "[1 2 3 4 5]\n",
      "[1 2 3]\n"
     ]
    }
   ],
   "source": [
    "numbers2 = numbers[0:3]\n",
    "print(numbers)\n",
    "print(numbers2)"
   ]
  },
  {
   "cell_type": "code",
   "execution_count": 95,
   "metadata": {},
   "outputs": [
    {
     "name": "stdout",
     "output_type": "stream",
     "text": [
      "[1 2 3 4 5]\n",
      "[1 2 3 4 5]\n"
     ]
    }
   ],
   "source": [
    "##7.12 Deep Copies\n",
    "numbers = np.arange(1, 6)\n",
    "print(numbers)\n",
    "numbers2 = numbers.copy()\n",
    "print(numbers2)"
   ]
  },
  {
   "cell_type": "code",
   "execution_count": 96,
   "metadata": {},
   "outputs": [
    {
     "name": "stdout",
     "output_type": "stream",
     "text": [
      "[ 1 20  3  4  5]\n",
      "[1 2 3 4 5]\n"
     ]
    }
   ],
   "source": [
    "numbers[1] *= 10\n",
    "print(numbers)\n",
    "print(numbers2)"
   ]
  },
  {
   "cell_type": "code",
   "execution_count": 97,
   "metadata": {},
   "outputs": [
    {
     "name": "stdout",
     "output_type": "stream",
     "text": [
      "[[ 87  96  70]\n",
      " [100  87  90]]\n"
     ]
    },
    {
     "data": {
      "text/plain": [
       "array([[ 87,  96,  70, 100,  87,  90]])"
      ]
     },
     "execution_count": 97,
     "metadata": {},
     "output_type": "execute_result"
    }
   ],
   "source": [
    "##7.13 Reshaping and Transposing\n",
    "grades = np.array([[87, 96, 70], [100, 87, 90]])\n",
    "print(grades)\n",
    "grades.reshape(1, 6) #returns a view"
   ]
  },
  {
   "cell_type": "code",
   "execution_count": 98,
   "metadata": {},
   "outputs": [
    {
     "data": {
      "text/plain": [
       "array([[ 87,  96,  70, 100,  87,  90]])"
      ]
     },
     "execution_count": 98,
     "metadata": {},
     "output_type": "execute_result"
    }
   ],
   "source": [
    "grades.resize(1, 6) #resize actually modifies the array\n",
    "grades"
   ]
  },
  {
   "cell_type": "code",
   "execution_count": 99,
   "metadata": {},
   "outputs": [
    {
     "data": {
      "text/plain": [
       "array([ 87,  96,  70, 100,  87,  90])"
      ]
     },
     "execution_count": 99,
     "metadata": {},
     "output_type": "execute_result"
    }
   ],
   "source": [
    "grades = np.array([[87, 96, 70], [100, 87, 90]])\n",
    "flattened = grades.flatten()\n",
    "flattened"
   ]
  },
  {
   "cell_type": "code",
   "execution_count": 100,
   "metadata": {},
   "outputs": [
    {
     "name": "stdout",
     "output_type": "stream",
     "text": [
      "[100  96  70 100  87  90]\n",
      "[[ 87  96  70]\n",
      " [100  87  90]]\n"
     ]
    }
   ],
   "source": [
    "flattened[0] = 100\n",
    "print(flattened)\n",
    "print(grades)       #DOES NOT share data"
   ]
  },
  {
   "cell_type": "code",
   "execution_count": 101,
   "metadata": {},
   "outputs": [
    {
     "data": {
      "text/plain": [
       "array([ 87,  96,  70, 100,  87,  90])"
      ]
     },
     "execution_count": 101,
     "metadata": {},
     "output_type": "execute_result"
    }
   ],
   "source": [
    "raveled = grades.ravel()\n",
    "raveled"
   ]
  },
  {
   "cell_type": "code",
   "execution_count": 102,
   "metadata": {},
   "outputs": [
    {
     "name": "stdout",
     "output_type": "stream",
     "text": [
      "[100  96  70 100  87  90]\n",
      "[[100  96  70]\n",
      " [100  87  90]]\n"
     ]
    }
   ],
   "source": [
    "raveled[0] = 100\n",
    "print(raveled)\n",
    "print(grades)       #DOES share data"
   ]
  },
  {
   "cell_type": "code",
   "execution_count": 103,
   "metadata": {},
   "outputs": [
    {
     "data": {
      "text/plain": [
       "array([[100, 100],\n",
       "       [ 96,  87],\n",
       "       [ 70,  90]])"
      ]
     },
     "execution_count": 103,
     "metadata": {},
     "output_type": "execute_result"
    }
   ],
   "source": [
    "grades.T        #View with rows & columns flipped"
   ]
  },
  {
   "cell_type": "code",
   "execution_count": 104,
   "metadata": {},
   "outputs": [
    {
     "data": {
      "text/plain": [
       "array([[100,  96,  70,  94,  77,  90],\n",
       "       [100,  87,  90, 100,  81,  82]])"
      ]
     },
     "execution_count": 104,
     "metadata": {},
     "output_type": "execute_result"
    }
   ],
   "source": [
    "grades2 = np.array([[94, 77, 90], [100, 81, 82]])\n",
    "np.hstack((grades, grades2))"
   ]
  },
  {
   "cell_type": "code",
   "execution_count": 105,
   "metadata": {},
   "outputs": [
    {
     "data": {
      "text/plain": [
       "array([[100,  96,  70],\n",
       "       [100,  87,  90],\n",
       "       [ 94,  77,  90],\n",
       "       [100,  81,  82]])"
      ]
     },
     "execution_count": 105,
     "metadata": {},
     "output_type": "execute_result"
    }
   ],
   "source": [
    "np.vstack((grades, grades2))"
   ]
  },
  {
   "cell_type": "code",
   "execution_count": 107,
   "metadata": {},
   "outputs": [
    {
     "data": {
      "text/plain": [
       "0     True\n",
       "1     True\n",
       "2    False\n",
       "dtype: bool"
      ]
     },
     "execution_count": 107,
     "metadata": {},
     "output_type": "execute_result"
    }
   ],
   "source": [
    "##7.14 Dataframes\n",
    "import pandas as pd\n",
    "kitchen = pd.Series(['Sink', 'Dish', 'Fork'])\n",
    "kitchen.str.contains('i')"
   ]
  },
  {
   "cell_type": "code",
   "execution_count": null,
   "metadata": {},
   "outputs": [
    {
     "data": {
      "text/plain": [
       "0    SINK\n",
       "1    DISH\n",
       "2    FORK\n",
       "dtype: object"
      ]
     },
     "metadata": {},
     "output_type": "display_data"
    }
   ],
   "source": [
    "kitchen.str.upper()"
   ]
  },
  {
   "cell_type": "code",
   "execution_count": null,
   "metadata": {},
   "outputs": [
    {
     "name": "stdout",
     "output_type": "stream",
     "text": [
      "0    93\n",
      "1    71\n",
      "2    94\n",
      "3    97\n",
      "4    78\n",
      "5    63\n",
      "dtype: int32\n",
      "LOW: 63\n",
      "HIGH: 97\n",
      "Average: 82.66666666666667\n",
      "count     6.000000\n",
      "mean     82.666667\n",
      "std      14.038044\n",
      "min      63.000000\n",
      "25%      72.750000\n",
      "50%      85.500000\n",
      "75%      93.750000\n",
      "max      97.000000\n",
      "dtype: float64\n"
     ]
    }
   ],
   "source": [
    "temps = np.random.randint(60, 101, 6)\n",
    "temperatures = pd.Series(temps)\n",
    "print(temperatures)\n",
    "print(\"LOW: \" + str(temperatures.min()))\n",
    "print(\"HIGH: \" + str(temperatures.max()))\n",
    "print(\"Average: \" + str(temperatures.mean()))\n",
    "print(temperatures.describe())"
   ]
  }
 ],
 "metadata": {
  "kernelspec": {
   "display_name": "Python 3.10.7 64-bit",
   "language": "python",
   "name": "python3"
  },
  "language_info": {
   "codemirror_mode": {
    "name": "ipython",
    "version": 3
   },
   "file_extension": ".py",
   "mimetype": "text/x-python",
   "name": "python",
   "nbconvert_exporter": "python",
   "pygments_lexer": "ipython3",
   "version": "3.10.7"
  },
  "orig_nbformat": 4,
  "vscode": {
   "interpreter": {
    "hash": "56ac80815800fbc2a67ceaf58126df0cf77c5048f624ddd1fb56817454a3d855"
   }
  }
 },
 "nbformat": 4,
 "nbformat_minor": 2
}
